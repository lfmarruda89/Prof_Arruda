{
  "cells": [
    {
      "cell_type": "code",
      "execution_count": null,
      "metadata": {
        "id": "xWzMA3BbsDnc"
      },
      "outputs": [],
      "source": [
        "#pip install control"
      ]
    },
    {
      "cell_type": "code",
      "execution_count": 2,
      "metadata": {
        "colab": {
          "base_uri": "https://localhost:8080/",
          "height": 361
        },
        "id": "Wx9R4hnnr_rF",
        "outputId": "81b25ab6-3e4a-4547-df1c-472dda95e785"
      },
      "outputs": [],
      "source": [
        "import matplotlib .pyplot as plt\n",
        "import control as ct\n",
        "import numpy as np\n",
        "import scipy as scipy"
      ]
    },
    {
      "cell_type": "code",
      "execution_count": 3,
      "metadata": {},
      "outputs": [],
      "source": [
        "# Parâmetros da senoide\n",
        "frequencia = 60  # Frequência da senoide em Hz\n",
        "\n",
        "amplitude = 1  # Amplitude da senoide\n",
        "\n",
        "tempo = 0.1  # Duração em segundos\n",
        "\n",
        "frequencia_amostragem = 20000  # Frequência de amostragem em Hz\n",
        "\n",
        "# Gerar o vetor de tempo\n",
        "t = np.linspace(-tempo, tempo, int(frequencia_amostragem * tempo), endpoint=False)"
      ]
    },
    {
      "cell_type": "code",
      "execution_count": 4,
      "metadata": {
        "id": "fivAPpdSsQhA"
      },
      "outputs": [],
      "source": [
        "# Criando a função degrau unitário\n",
        "u = np.heaviside(t - 0.05, 1)\n",
        "\n",
        "# Gerar a senoide\n",
        "signal = amplitude * np.sin(2 * np.pi * frequencia * t) + 0.2 * amplitude * np.sin(10 * 2 * np.pi * frequencia * t) * u"
      ]
    },
    {
      "cell_type": "code",
      "execution_count": null,
      "metadata": {
        "colab": {
          "base_uri": "https://localhost:8080/",
          "height": 607
        },
        "id": "rW7T4iM5tGBj",
        "outputId": "055453d9-2b87-4375-f7bc-ab10acd4cd69"
      },
      "outputs": [],
      "source": [
        "# Plotar a entrada (senoide) e a saída do sistema\n",
        "plt.figure(figsize=(10, 6))\n",
        "\n",
        "plt.plot(t, signal, label='Signal')\n",
        "plt.plot(t, u, label='Degrau')\n",
        "plt.title('Sistema com Degrau')\n",
        "plt.xlabel('Tempo (s)')\n",
        "plt.ylabel('Amplitude')\n",
        "plt.grid(True)\n",
        "plt.legend()\n",
        "\n",
        "plt.tight_layout()\n",
        "plt.show()"
      ]
    },
    {
      "cell_type": "code",
      "execution_count": 6,
      "metadata": {},
      "outputs": [],
      "source": [
        "# Criando a função impulso unitário\n",
        "impulso = np.zeros_like(t)  # Inicializa o vetor com zeros\n",
        "impulso[t == 0] = 1  # Coloca 1 no ponto t = 0 (impulso em t = 0)\n",
        "\n",
        "# Gerar a senoide\n",
        "signal = amplitude * np.sin(2 * np.pi * frequencia * t) + 0.2 * amplitude * np.sin(10 * 2 * np.pi * frequencia * t) * impulso"
      ]
    },
    {
      "cell_type": "code",
      "execution_count": null,
      "metadata": {},
      "outputs": [],
      "source": [
        "# Plotar a entrada (senoide) e a saída do sistema\n",
        "plt.figure(figsize=(10, 6))\n",
        "\n",
        "plt.plot(t, signal, label='Signal')\n",
        "plt.plot(t, impulso, label='Impulso')\n",
        "plt.title('Sistema com Degrau')\n",
        "plt.xlabel('Tempo (s)')\n",
        "plt.ylabel('Amplitude')\n",
        "plt.grid(True)\n",
        "plt.legend()\n",
        "\n",
        "plt.tight_layout()\n",
        "plt.show()"
      ]
    },
    {
      "cell_type": "code",
      "execution_count": 37,
      "metadata": {},
      "outputs": [],
      "source": [
        "s = -5 + 1j  # Valor de s (sigma + j omega)\n",
        "\n",
        "# Criando a função exponencial e^{st}\n",
        "exponencial = np.exp(s * t)\n",
        "\n",
        "# Separando em partes real e imaginária\n",
        "real = np.real(exponencial)\n",
        "imaginaria = np.imag(exponencial)\n",
        "\n",
        "# Gerar a senoide\n",
        "signal = amplitude * np.sin(2 * np.pi * frequencia * t) * exponencial"
      ]
    },
    {
      "cell_type": "code",
      "execution_count": null,
      "metadata": {},
      "outputs": [],
      "source": [
        "# Plotar a entrada (senoide) e a saída do sistema\n",
        "plt.figure(figsize=(10, 6))\n",
        "\n",
        "plt.plot(t, signal, label='Signal')\n",
        "plt.plot(t, exponencial, label='Exponencial')\n",
        "plt.title('Sistema com Degrau')\n",
        "plt.xlabel('Tempo (s)')\n",
        "plt.ylabel('Amplitude')\n",
        "plt.grid(True)\n",
        "plt.legend()\n",
        "\n",
        "plt.tight_layout()\n",
        "plt.show()"
      ]
    },
    {
      "cell_type": "code",
      "execution_count": null,
      "metadata": {},
      "outputs": [],
      "source": [
        "# Parte real\n",
        "plt.subplot(2, 1, 1)\n",
        "plt.plot(t, real)\n",
        "plt.title('Parte Real de e^{st}')\n",
        "plt.xlabel('Tempo [s]')\n",
        "plt.ylabel('Amplitude')\n",
        "plt.grid(True)\n",
        "\n",
        "# Parte imaginária\n",
        "plt.subplot(2, 1, 2)\n",
        "plt.plot(t, imaginaria)\n",
        "plt.title('Parte Imaginária de e^{st}')\n",
        "plt.xlabel('Tempo [s]')\n",
        "plt.ylabel('Amplitude')\n",
        "plt.grid(True)\n",
        "\n",
        "plt.tight_layout()\n",
        "plt.show()"
      ]
    }
  ],
  "metadata": {
    "colab": {
      "provenance": []
    },
    "kernelspec": {
      "display_name": "Python 3",
      "name": "python3"
    },
    "language_info": {
      "codemirror_mode": {
        "name": "ipython",
        "version": 3
      },
      "file_extension": ".py",
      "mimetype": "text/x-python",
      "name": "python",
      "nbconvert_exporter": "python",
      "pygments_lexer": "ipython3",
      "version": "3.11.7"
    }
  },
  "nbformat": 4,
  "nbformat_minor": 0
}
