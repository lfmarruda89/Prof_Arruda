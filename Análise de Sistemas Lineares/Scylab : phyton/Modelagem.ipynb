{
  "cells": [
    {
      "cell_type": "code",
      "execution_count": 2,
      "metadata": {
        "id": "xWzMA3BbsDnc"
      },
      "outputs": [],
      "source": [
        "#pip install control"
      ]
    },
    {
      "cell_type": "code",
      "execution_count": 3,
      "metadata": {
        "id": "Wx9R4hnnr_rF"
      },
      "outputs": [],
      "source": [
        "import matplotlib .pyplot as plt\n",
        "import control as ct\n",
        "import numpy as np\n",
        "import scipy as scipy"
      ]
    },
    {
      "cell_type": "code",
      "execution_count": 4,
      "metadata": {
        "id": "x_EokH4vsMpj"
      },
      "outputs": [],
      "source": [
        "def plot_bode(x, Y1, Y2, legends, title, xlabels, ylabels, xPoint):\n",
        "    # Plot setup\n",
        "    plt.figure(figsize=(10, 6))\n",
        "\n",
        "    plt.subplot(2, 1, 1)\n",
        "\n",
        "    plt.semilogx(x, 20 * np.log10(Y1))\n",
        "    for i in range(len(xPoint)):\n",
        "        if (i == 0):\n",
        "            plt.axvline(x = xPoint[i], color='r')  # Vertical line\n",
        "        elif (i == 1):\n",
        "            plt.axvline(x = xPoint[i], color='b')  # Vertical line\n",
        "        else:\n",
        "            plt.axvline(x = xPoint[i], color='k')  # Vertical line\n",
        "    plt.xscale('log')  # Ensuring x-axis is logarithmic\n",
        "\n",
        "    # Legend setup\n",
        "    plt.legend(legends)\n",
        "\n",
        "    # Grid, labels, and title\n",
        "    plt.ylabel(ylabels[0])\n",
        "    # plt.xlabel(xlabels[0])\n",
        "    plt.grid(True)\n",
        "\n",
        "    plt.title(title[0])\n",
        "    # plt.yticks(np.arange(-20, 101, 20))  # Setting y-ticks from -20 to 100 with a step of 20\n",
        "\n",
        "\n",
        "    # Phase plot\n",
        "    plt.subplot(2, 1, 2)\n",
        "    plt.semilogx(x, Y2 * (180/np.pi))\n",
        "    for i in range(len(xPoint)):\n",
        "        if (i == 0):\n",
        "            plt.axvline(x = xPoint[i], color='r')  # Vertical line\n",
        "        elif (i == 1):\n",
        "            plt.axvline(x = xPoint[i], color='b')  # Vertical line\n",
        "        else:\n",
        "            plt.axvline(x = xPoint[i], color='k')  # Vertical line\n",
        "\n",
        "    plt.ylabel(ylabels[1])\n",
        "    plt.xlabel(xlabels[1])\n",
        "    plt.grid(True)\n",
        "    plt.show()"
      ]
    },
    {
      "cell_type": "code",
      "execution_count": 5,
      "metadata": {
        "id": "dPc4hXZPsNok"
      },
      "outputs": [],
      "source": [
        "# w = np.linspace(10, int(1e6), 10)  # from 10 to 10e7 Hz\n",
        "w = np.logspace(1, 6, 500)  # Adjust the range as necessary"
      ]
    },
    {
      "cell_type": "code",
      "execution_count": 6,
      "metadata": {
        "id": "fivAPpdSsQhA"
      },
      "outputs": [],
      "source": [
        "# Parâmetros da senoide\n",
        "frequencia = 60  # Frequência da senoide em Hz\n",
        "\n",
        "wz = frequencia * 2 * np.pi # # Frequência da senoide em rad/s\n",
        "\n",
        "amplitude = 100  # Amplitude da senoide\n",
        "\n",
        "tempo = 0.1  # Duração em segundos\n",
        "\n",
        "frequencia_amostragem = 20000  # Frequência de amostragem em Hz\n",
        "\n",
        "# Gerar o vetor de tempo\n",
        "t = np.linspace(0, tempo, int(frequencia_amostragem * tempo), endpoint=False)\n",
        "\n",
        "# Gerar a senoide\n",
        "senoide = amplitude * np.sin(2 * np.pi * frequencia * t) + 0.2 * amplitude * np.sin(10 * 2 * np.pi * frequencia * t) + 0.02 * amplitude * np.sin(20 * 2 * np.pi * frequencia * t)\n",
        "\n",
        "senoide_60_hz = amplitude * np.sin(2 * np.pi * frequencia * t)"
      ]
    },
    {
      "cell_type": "code",
      "execution_count": null,
      "metadata": {
        "colab": {
          "base_uri": "https://localhost:8080/",
          "height": 472
        },
        "id": "89SztqoIsmw3",
        "outputId": "a8cc3bba-842e-4ddb-839c-16a14c0093db"
      },
      "outputs": [],
      "source": [
        "# Plotar a senoide\n",
        "plt.plot(t, senoide, label = \"Signal\")\n",
        "plt.plot(t, senoide_60_hz, label = \"60 Hz\")\n",
        "plt.title(\"Sinal Senoidal\")\n",
        "plt.xlabel(\"Tempo (s)\")\n",
        "plt.ylabel(\"Amplitude\")\n",
        "plt.legend()\n",
        "plt.grid(True)\n",
        "plt.show()"
      ]
    },
    {
      "cell_type": "code",
      "execution_count": 8,
      "metadata": {
        "id": "hIzhw2bQsupG"
      },
      "outputs": [],
      "source": [
        "R1 = 2\n",
        "\n",
        "R2 = 7\n",
        "\n",
        "# Frequency Hz\n",
        "F1_hz = 10\n",
        "\n",
        "# Grid Frequency rad/s\n",
        "w1_hz = F1_hz * 2 * np.pi\n",
        "\n",
        "# Frequency Hz\n",
        "F2_hz = 1000\n",
        "\n",
        "# Grid Frequency rad/s\n",
        "w2_hz = F2_hz * 2 * np.pi\n",
        "\n",
        "#  Io(s) p/ d(s)\n",
        "num_TF_G = [R2]\n",
        "den_TF_G = [R1 + R2]"
      ]
    },
    {
      "cell_type": "code",
      "execution_count": 9,
      "metadata": {
        "id": "CKg9H7L4s6A4"
      },
      "outputs": [],
      "source": [
        "sys_G = ct.tf(num_TF_G,den_TF_G)"
      ]
    },
    {
      "cell_type": "code",
      "execution_count": 10,
      "metadata": {
        "id": "e-OYIjdJtBWS"
      },
      "outputs": [],
      "source": [
        "# Simular a resposta do sistema sys_G com a entrada sendo a senoide\n",
        "t_out, y_out = ct.forced_response(sys_G, T=t, U=senoide)"
      ]
    },
    {
      "cell_type": "code",
      "execution_count": null,
      "metadata": {
        "colab": {
          "base_uri": "https://localhost:8080/",
          "height": 607
        },
        "id": "rW7T4iM5tGBj",
        "outputId": "055453d9-2b87-4375-f7bc-ab10acd4cd69"
      },
      "outputs": [],
      "source": [
        "# Plotar a entrada (senoide) e a saída do sistema\n",
        "plt.figure(figsize=(10, 6))\n",
        "\n",
        "plt.plot(t, senoide, label='Entrada (Senoide)')\n",
        "plt.plot(t, senoide_60_hz, label = \"60 Hz\")\n",
        "plt.plot(t_out, y_out, label='Saída do Sistema')\n",
        "plt.title('Entrada: Sinal Senoidal')\n",
        "plt.xlabel('Tempo (s)')\n",
        "plt.ylabel('Amplitude')\n",
        "plt.grid(True)\n",
        "plt.legend()\n",
        "\n",
        "plt.tight_layout()\n",
        "plt.show()"
      ]
    },
    {
      "cell_type": "code",
      "execution_count": 12,
      "metadata": {
        "id": "V00kT-ZUvS00"
      },
      "outputs": [],
      "source": [
        "sys_G = ct.tf(num_TF_G,den_TF_G)\n",
        "\n",
        "# Function ‘freqs’ gives the frequency response in the s-domain\n",
        "w, Y1 = scipy.signal.freqs(num_TF_G, den_TF_G, w)\n",
        "\n",
        "# Compute magnitude and phase\n",
        "y1 = abs(Y1)\n",
        "y2 = np.angle(Y1)"
      ]
    },
    {
      "cell_type": "code",
      "execution_count": null,
      "metadata": {
        "colab": {
          "base_uri": "https://localhost:8080/",
          "height": 569
        },
        "id": "cZfINoFE3Fwe",
        "outputId": "46967591-0f0c-4c98-ee42-ffe770fd3d1d"
      },
      "outputs": [],
      "source": [
        "legend1 = f'System '\n",
        "legend2 = f'F1 - {F1_hz:.0f} Hz'\n",
        "legend3 = f'F - {frequencia:.0f} Hz'\n",
        "legend4 = f'F2 - {F2_hz:.0f} Hz'\n",
        "legends = [legend1, legend2, legend3, legend4]\n",
        "\n",
        "title = ['Bode Plot - G(s)', '']\n",
        "xlabels = ['Frequency (rad/s)', 'Frequency (rad/s)']\n",
        "ylabels = ['Magnitude (dB)', 'Phase (deg)']\n",
        "plot_bode(w, y1, y2, legends, title, xlabels, ylabels, xPoint = [w1_hz, wz, w2_hz])"
      ]
    },
    {
      "cell_type": "code",
      "execution_count": null,
      "metadata": {
        "colab": {
          "base_uri": "https://localhost:8080/"
        },
        "id": "MgpaR4kd1Vy0",
        "outputId": "02539a2d-6cd5-45a7-8745-e482db1b1bef"
      },
      "outputs": [],
      "source": [
        "mag_G, phase_G, omega_G = ct.frequency_response(sys_G, [wz])\n",
        "\n",
        "print(mag_G)\n",
        "print(phase_G *180 / np.pi)"
      ]
    },
    {
      "cell_type": "code",
      "execution_count": 15,
      "metadata": {
        "id": "dxoKoi0uxdwA"
      },
      "outputs": [],
      "source": [
        "Vdc = 1\n",
        "\n",
        "Ro = 7\n",
        "\n",
        "Lo = 0.1\n",
        "\n",
        "# Frequency Hz\n",
        "F1_hz = 10\n",
        "\n",
        "# Grid Frequency rad/s\n",
        "w1_hz = F1_hz * 2 * np.pi\n",
        "\n",
        "# Frequency Hz\n",
        "F2_hz = 1000\n",
        "\n",
        "# Grid Frequency rad/s\n",
        "w2_hz = F2_hz * 2 * np.pi\n",
        "\n",
        "#  Io(s) p/ d(s)\n",
        "num_TF_G = [Ro * Vdc]\n",
        "den_TF_G = [Lo, Ro]"
      ]
    },
    {
      "cell_type": "code",
      "execution_count": 16,
      "metadata": {
        "id": "tMbzonicx-Rf"
      },
      "outputs": [],
      "source": [
        "sys_G = ct.tf(num_TF_G,den_TF_G)\n",
        "\n",
        "# Function ‘freqs’ gives the frequency response in the s-domain\n",
        "w, Y1 = scipy.signal.freqs(num_TF_G, den_TF_G, w)\n",
        "\n",
        "# Compute magnitude and phase\n",
        "y1 = abs(Y1)\n",
        "y2 = np.angle(Y1)"
      ]
    },
    {
      "cell_type": "code",
      "execution_count": null,
      "metadata": {
        "colab": {
          "base_uri": "https://localhost:8080/",
          "height": 569
        },
        "id": "NSsTR4dZyYuU",
        "outputId": "98dd6ede-a03c-4e47-972b-4188145123c4"
      },
      "outputs": [],
      "source": [
        "legend1 = f'System '\n",
        "legend2 = f'F1 - {F1_hz:.0f} Hz'\n",
        "legend3 = f'F - {frequencia:.0f} Hz'\n",
        "legend4 = f'F2 - {F2_hz:.0f} Hz'\n",
        "legends = [legend1, legend2, legend3, legend4]\n",
        "\n",
        "title = ['Bode Plot - G(s)', '']\n",
        "xlabels = ['Frequency (rad/s)', 'Frequency (rad/s)']\n",
        "ylabels = ['Magnitude (dB)', 'Phase (deg)']\n",
        "plot_bode(w, y1, y2, legends, title, xlabels, ylabels, xPoint = [w1_hz, wz, w2_hz])\n"
      ]
    },
    {
      "cell_type": "code",
      "execution_count": null,
      "metadata": {
        "colab": {
          "base_uri": "https://localhost:8080/"
        },
        "id": "s9-cW8JxzRqU",
        "outputId": "afb7a081-bce5-477d-dca7-b6fce6fa6f31"
      },
      "outputs": [],
      "source": [
        "mag_G, phase_G, omega_G = ct.frequency_response(sys_G, [wz])\n",
        "\n",
        "print(mag_G)\n",
        "print(phase_G *180 / np.pi)"
      ]
    },
    {
      "cell_type": "code",
      "execution_count": 19,
      "metadata": {
        "id": "bovPlIMdyAKQ"
      },
      "outputs": [],
      "source": [
        "# Simular a resposta do sistema sys_G com a entrada sendo a senoide\n",
        "t_out, y_out = ct.forced_response(sys_G, T=t, U=senoide)"
      ]
    },
    {
      "cell_type": "code",
      "execution_count": null,
      "metadata": {
        "colab": {
          "base_uri": "https://localhost:8080/",
          "height": 607
        },
        "id": "Q_QlJjgryCLW",
        "outputId": "37cc0f2a-cda3-4b58-cd54-a3d696e5503f"
      },
      "outputs": [],
      "source": [
        "# Plotar a entrada (senoide) e a saída do sistema\n",
        "plt.figure(figsize=(10, 6))\n",
        "\n",
        "plt.plot(t, senoide, label='Entrada (Senoide)')\n",
        "#plt.plot(t, senoide_60_hz, label = \"60 Hz\")\n",
        "plt.plot(t_out, y_out, label='Saída do Sistema')\n",
        "plt.title('Entrada: Sinal Senoidal')\n",
        "plt.xlabel('Tempo (s)')\n",
        "plt.ylabel('Amplitude')\n",
        "plt.grid(True)\n",
        "plt.legend()\n",
        "\n",
        "plt.tight_layout()\n",
        "plt.show()"
      ]
    },
    {
      "cell_type": "code",
      "execution_count": null,
      "metadata": {
        "id": "7KctTpUI6-PD"
      },
      "outputs": [],
      "source": []
    },
    {
      "cell_type": "code",
      "execution_count": 21,
      "metadata": {
        "id": "k7FHc-wXyUHz"
      },
      "outputs": [],
      "source": [
        "Ro = 7\n",
        "\n",
        "Co = 0.00001\n",
        "\n",
        "# Frequency Hz\n",
        "F1_hz = 10\n",
        "\n",
        "# Grid Frequency rad/s\n",
        "w1_hz = F1_hz * 2 * np.pi\n",
        "\n",
        "# Frequency Hz\n",
        "F2_hz = 1000\n",
        "\n",
        "# Grid Frequency rad/s\n",
        "w2_hz = F2_hz * 2 * np.pi\n",
        "\n",
        "#  Io(s) p/ d(s)\n",
        "num_TF_G = [Ro*Co,  0]\n",
        "den_TF_G = [Ro*Co, 1]"
      ]
    },
    {
      "cell_type": "code",
      "execution_count": 22,
      "metadata": {
        "id": "G0JXtoqd3SHS"
      },
      "outputs": [],
      "source": [
        "sys_G = ct.tf(num_TF_G,den_TF_G)\n",
        "\n",
        "# Function ‘freqs’ gives the frequency response in the s-domain\n",
        "w, Y1 = scipy.signal.freqs(num_TF_G, den_TF_G, w)\n",
        "\n",
        "# Compute magnitude and phase\n",
        "y1 = abs(Y1)\n",
        "y2 = np.angle(Y1)"
      ]
    },
    {
      "cell_type": "code",
      "execution_count": null,
      "metadata": {
        "colab": {
          "base_uri": "https://localhost:8080/",
          "height": 569
        },
        "id": "Ztc-dKlK3UXs",
        "outputId": "08d2d5e7-bd03-4883-bba7-ca87b0e2fdc2"
      },
      "outputs": [],
      "source": [
        "legend1 = f'System '\n",
        "legend2 = f'F1 - {F1_hz:.0f} Hz'\n",
        "legend3 = f'F - {frequencia:.0f} Hz'\n",
        "legend4 = f'F2 - {F2_hz:.0f} Hz'\n",
        "legends = [legend1, legend2, legend3, legend4]\n",
        "\n",
        "title = ['Bode Plot - G(s)', '']\n",
        "xlabels = ['Frequency (rad/s)', 'Frequency (rad/s)']\n",
        "ylabels = ['Magnitude (dB)', 'Phase (deg)']\n",
        "plot_bode(w, y1, y2, legends, title, xlabels, ylabels, xPoint = [w1_hz, wz, w2_hz])\n"
      ]
    },
    {
      "cell_type": "code",
      "execution_count": 24,
      "metadata": {
        "id": "GahKMwv13Zxi"
      },
      "outputs": [],
      "source": [
        "# Simular a resposta do sistema sys_G com a entrada sendo a senoide\n",
        "t_out, y_out = ct.forced_response(sys_G, T=t, U=senoide)"
      ]
    },
    {
      "cell_type": "code",
      "execution_count": null,
      "metadata": {
        "colab": {
          "base_uri": "https://localhost:8080/",
          "height": 607
        },
        "id": "uqCLKxYH3b2q",
        "outputId": "7617c59a-b14e-4b04-e5b9-62105d713d8b"
      },
      "outputs": [],
      "source": [
        "# Plotar a entrada (senoide) e a saída do sistema\n",
        "plt.figure(figsize=(10, 6))\n",
        "\n",
        "plt.plot(t, senoide, label='Entrada (Senoide)')\n",
        "plt.plot(t, senoide_60_hz, label = \"60 Hz\")\n",
        "plt.plot(t_out, y_out, label='Saída do Sistema')\n",
        "plt.title('Entrada: Sinal Senoidal')\n",
        "plt.xlabel('Tempo (s)')\n",
        "plt.ylabel('Amplitude')\n",
        "plt.grid(True)\n",
        "plt.legend()\n",
        "\n",
        "plt.tight_layout()\n",
        "plt.show()"
      ]
    },
    {
      "cell_type": "code",
      "execution_count": 26,
      "metadata": {
        "id": "o33d4W0I3rAQ"
      },
      "outputs": [],
      "source": [
        "Ro = 7\n",
        "\n",
        "Co = 0.0001\n",
        "\n",
        "Lo = 0.1\n",
        "\n",
        "# Frequency Hz\n",
        "F1_hz = 10\n",
        "\n",
        "# Grid Frequency rad/s\n",
        "w1_hz = F1_hz * 2 * np.pi\n",
        "\n",
        "# Frequency Hz\n",
        "F2_hz = 1000\n",
        "\n",
        "# Grid Frequency rad/s\n",
        "w2_hz = F2_hz * 2 * np.pi\n",
        "\n",
        "#  Io(s) p/ d(s)\n",
        "num_TF_G = [Ro]\n",
        "den_TF_G = [Lo * Ro * Co , Lo , Ro]"
      ]
    },
    {
      "cell_type": "code",
      "execution_count": 27,
      "metadata": {
        "id": "keKeECnK5JCd"
      },
      "outputs": [],
      "source": [
        "sys_G = ct.tf(num_TF_G,den_TF_G)\n",
        "\n",
        "# Function ‘freqs’ gives the frequency response in the s-domain\n",
        "w, Y1 = scipy.signal.freqs(num_TF_G, den_TF_G, w)\n",
        "\n",
        "# Compute magnitude and phase\n",
        "y1 = abs(Y1)\n",
        "y2 = np.angle(Y1)"
      ]
    },
    {
      "cell_type": "code",
      "execution_count": null,
      "metadata": {
        "colab": {
          "base_uri": "https://localhost:8080/",
          "height": 569
        },
        "id": "i-VhLcnG5LWr",
        "outputId": "64d0b49e-60ba-4861-c8de-048d816b73f2"
      },
      "outputs": [],
      "source": [
        "legend1 = f'System '\n",
        "legend2 = f'F1 - {F1_hz:.0f} Hz'\n",
        "legend3 = f'F - {frequencia:.0f} Hz'\n",
        "legend4 = f'F2 - {F2_hz:.0f} Hz'\n",
        "legends = [legend1, legend2, legend3, legend4]\n",
        "\n",
        "title = ['Bode Plot - G(s)', '']\n",
        "xlabels = ['Frequency (rad/s)', 'Frequency (rad/s)']\n",
        "ylabels = ['Magnitude (dB)', 'Phase (deg)']\n",
        "plot_bode(w, y1, y2, legends, title, xlabels, ylabels, xPoint = [w1_hz, wz, w2_hz])\n"
      ]
    },
    {
      "cell_type": "code",
      "execution_count": 29,
      "metadata": {
        "id": "RlK8UCRkIXS9"
      },
      "outputs": [],
      "source": [
        "# Simular a resposta do sistema sys_G com a entrada sendo a senoide\n",
        "t_out, y_out = ct.forced_response(sys_G, T=t, U=senoide)"
      ]
    },
    {
      "cell_type": "code",
      "execution_count": null,
      "metadata": {
        "colab": {
          "base_uri": "https://localhost:8080/",
          "height": 607
        },
        "id": "7syBNvU6IZqb",
        "outputId": "700caa29-af39-4539-f78e-7eb72367fa63"
      },
      "outputs": [],
      "source": [
        "# Plotar a entrada (senoide) e a saída do sistema\n",
        "plt.figure(figsize=(10, 6))\n",
        "\n",
        "plt.plot(t, senoide, label='Entrada (Senoide)')\n",
        "plt.plot(t, senoide_60_hz, label = \"60 Hz\")\n",
        "plt.plot(t_out, y_out, label='Saída do Sistema')\n",
        "plt.title('Entrada: Sinal Senoidal')\n",
        "plt.xlabel('Tempo (s)')\n",
        "plt.ylabel('Amplitude')\n",
        "plt.grid(True)\n",
        "plt.legend()\n",
        "\n",
        "plt.tight_layout()\n",
        "plt.show()"
      ]
    },
    {
      "cell_type": "code",
      "execution_count": null,
      "metadata": {
        "id": "alp_KPkdKEvm"
      },
      "outputs": [],
      "source": []
    },
    {
      "cell_type": "code",
      "execution_count": 31,
      "metadata": {
        "id": "5HgjJCJAKE22"
      },
      "outputs": [],
      "source": [
        "R1 = 2\n",
        "\n",
        "R2 = 7\n",
        "\n",
        "Co = 0.0001\n",
        "\n",
        "Lo = 0.1\n",
        "\n",
        "# Frequency Hz\n",
        "F1_hz = 10\n",
        "\n",
        "# Grid Frequency rad/s\n",
        "w1_hz = F1_hz * 2 * np.pi\n",
        "\n",
        "# Frequency Hz\n",
        "F2_hz = 1000\n",
        "\n",
        "# Grid Frequency rad/s\n",
        "w2_hz = F2_hz * 2 * np.pi\n",
        "\n",
        "#  Io(s) p/ d(s)\n",
        "num_TF_G = [R1]\n",
        "den_TF_G = [Lo * (R1+R2) * Co , Lo , (R1+R2)]"
      ]
    },
    {
      "cell_type": "code",
      "execution_count": 32,
      "metadata": {
        "id": "x4cZppP5KKlM"
      },
      "outputs": [],
      "source": [
        "sys_G = ct.tf(num_TF_G,den_TF_G)\n",
        "\n",
        "# Function ‘freqs’ gives the frequency response in the s-domain\n",
        "w, Y1 = scipy.signal.freqs(num_TF_G, den_TF_G, w)\n",
        "\n",
        "# Compute magnitude and phase\n",
        "y1 = abs(Y1)\n",
        "y2 = np.angle(Y1)"
      ]
    },
    {
      "cell_type": "code",
      "execution_count": null,
      "metadata": {
        "colab": {
          "base_uri": "https://localhost:8080/",
          "height": 569
        },
        "id": "cr_dcCbOKUb-",
        "outputId": "0e8ec3dd-afca-4c05-a4ae-ab77f9388abf"
      },
      "outputs": [],
      "source": [
        "legend1 = f'System '\n",
        "legend2 = f'F1 - {F1_hz:.0f} Hz'\n",
        "legend3 = f'F - {frequencia:.0f} Hz'\n",
        "legend4 = f'F2 - {F2_hz:.0f} Hz'\n",
        "legends = [legend1, legend2, legend3, legend4]\n",
        "\n",
        "title = ['Bode Plot - G(s)', '']\n",
        "xlabels = ['Frequency (rad/s)', 'Frequency (rad/s)']\n",
        "ylabels = ['Magnitude (dB)', 'Phase (deg)']\n",
        "plot_bode(w, y1, y2, legends, title, xlabels, ylabels, xPoint = [w1_hz, wz, w2_hz])\n"
      ]
    },
    {
      "cell_type": "code",
      "execution_count": 34,
      "metadata": {
        "id": "0wEDHVxRKYmp"
      },
      "outputs": [],
      "source": [
        "# Simular a resposta do sistema sys_G com a entrada sendo a senoide\n",
        "t_out, y_out = ct.forced_response(sys_G, T=t, U=senoide)"
      ]
    },
    {
      "cell_type": "code",
      "execution_count": null,
      "metadata": {
        "colab": {
          "base_uri": "https://localhost:8080/",
          "height": 607
        },
        "id": "_XiF5F8OKbwN",
        "outputId": "8b3746c5-00cc-41ca-f1d0-0e4f633914ee"
      },
      "outputs": [],
      "source": [
        "# Plotar a entrada (senoide) e a saída do sistema\n",
        "plt.figure(figsize=(10, 6))\n",
        "\n",
        "plt.plot(t, senoide, label='Entrada (Senoide)')\n",
        "plt.plot(t, senoide_60_hz, label = \"60 Hz\")\n",
        "plt.plot(t_out, y_out, label='Saída do Sistema')\n",
        "plt.title('Entrada: Sinal Senoidal')\n",
        "plt.xlabel('Tempo (s)')\n",
        "plt.ylabel('Amplitude')\n",
        "plt.grid(True)\n",
        "plt.legend()\n",
        "\n",
        "plt.tight_layout()\n",
        "plt.show()"
      ]
    }
  ],
  "metadata": {
    "colab": {
      "provenance": []
    },
    "kernelspec": {
      "display_name": "Python 3",
      "name": "python3"
    },
    "language_info": {
      "codemirror_mode": {
        "name": "ipython",
        "version": 3
      },
      "file_extension": ".py",
      "mimetype": "text/x-python",
      "name": "python",
      "nbconvert_exporter": "python",
      "pygments_lexer": "ipython3",
      "version": "3.11.7"
    }
  },
  "nbformat": 4,
  "nbformat_minor": 0
}
