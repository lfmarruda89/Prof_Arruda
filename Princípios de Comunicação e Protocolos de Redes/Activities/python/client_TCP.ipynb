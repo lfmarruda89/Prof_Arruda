{
 "cells": [
  {
   "cell_type": "code",
   "execution_count": 7,
   "metadata": {},
   "outputs": [],
   "source": [
    "import socket"
   ]
  },
  {
   "cell_type": "code",
   "execution_count": 8,
   "metadata": {},
   "outputs": [
    {
     "name": "stdout",
     "output_type": "stream",
     "text": [
      "Recebido do servidor: Olá: luiz\n",
      "Escolha uma opcao:\n",
      "1-Incluir\n",
      "2-Sair\n",
      "\n",
      "Recebido do servidor: Recebido : 10\n"
     ]
    }
   ],
   "source": [
    "# Definir o endereço IP e a porta do servidor\n",
    "server_ip = \"191.252.179.140\"  # IP do servidor (localhost)\n",
    "server_port = 8087       # Porta do servidor\n",
    "\n",
    "# Criar um socket TCP\n",
    "client_socket = socket.socket(socket.AF_INET, socket.SOCK_STREAM)\n",
    "\n",
    "# Conectar ao servidor\n",
    "client_socket.connect((server_ip, server_port))\n",
    "\n",
    "# Mensagem a ser enviada ao servidor\n",
    "message = input(\"Digite seu nome\")\n",
    "\n",
    "# Enviar a mensagem ao servidor\n",
    "client_socket.send(message.encode())\n",
    "\n",
    "# Receber a resposta do servidor\n",
    "response = client_socket.recv(1024)\n",
    "\n",
    "# Exibir a resposta do servidor\n",
    "print(f\"Recebido do servidor: {response.decode()}\")\n",
    "\n",
    "# Mensagem a ser enviada ao servidor\n",
    "message = input(\"Escolha\")\n",
    "\n",
    "# Enviar a mensagem ao servidor\n",
    "client_socket.send(message.encode())\n",
    "\n",
    "# Receber a resposta do servidor\n",
    "response = client_socket.recv(1024)\n",
    "\n",
    "# Exibir a resposta do servidor\n",
    "print(f\"Recebido do servidor: {response.decode()}\")\n",
    "\n",
    "\n",
    "# Fechar o socket\n",
    "client_socket.close()"
   ]
  }
 ],
 "metadata": {
  "kernelspec": {
   "display_name": "Python 3",
   "language": "python",
   "name": "python3"
  },
  "language_info": {
   "codemirror_mode": {
    "name": "ipython",
    "version": 3
   },
   "file_extension": ".py",
   "mimetype": "text/x-python",
   "name": "python",
   "nbconvert_exporter": "python",
   "pygments_lexer": "ipython3",
   "version": "3.9.6"
  }
 },
 "nbformat": 4,
 "nbformat_minor": 2
}
