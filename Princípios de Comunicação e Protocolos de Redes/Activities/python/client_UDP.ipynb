{
 "cells": [
  {
   "cell_type": "code",
   "execution_count": 6,
   "metadata": {},
   "outputs": [],
   "source": [
    "import socket"
   ]
  },
  {
   "cell_type": "code",
   "execution_count": 7,
   "metadata": {},
   "outputs": [
    {
     "name": "stdout",
     "output_type": "stream",
     "text": [
      "Recebido do servidor: Ack: Hello, server!\n"
     ]
    }
   ],
   "source": [
    "# Definir o endereço IP e a porta do servidor\n",
    "server_ip = \"localhost\"  # IP do servidor (localhost)\n",
    "server_port = 12345       # Porta do servidor\n",
    "\n",
    "# Criar um socket UDP\n",
    "client_socket = socket.socket(socket.AF_INET, socket.SOCK_DGRAM)\n",
    "\n",
    "# Mensagem a ser enviada ao servidor\n",
    "message = \"Hello, server!\"\n",
    "\n",
    "# Enviar a mensagem ao servidor\n",
    "client_socket.sendto(message.encode(), (server_ip, server_port))\n",
    "\n",
    "# Receber a resposta do servidor\n",
    "response, server_address = client_socket.recvfrom(1024)\n",
    "\n",
    "# Exibir a resposta do servidor\n",
    "print(f\"Recebido do servidor: {response.decode()}\")\n",
    "\n",
    "# Fechar o socket\n",
    "client_socket.close()"
   ]
  }
 ],
 "metadata": {
  "kernelspec": {
   "display_name": "Python 3",
   "language": "python",
   "name": "python3"
  },
  "language_info": {
   "codemirror_mode": {
    "name": "ipython",
    "version": 3
   },
   "file_extension": ".py",
   "mimetype": "text/x-python",
   "name": "python",
   "nbconvert_exporter": "python",
   "pygments_lexer": "ipython3",
   "version": "3.9.6"
  }
 },
 "nbformat": 4,
 "nbformat_minor": 2
}
