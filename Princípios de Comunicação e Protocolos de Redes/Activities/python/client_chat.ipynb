{
 "cells": [
  {
   "cell_type": "code",
   "execution_count": 2,
   "metadata": {},
   "outputs": [],
   "source": [
    "import socket\n",
    "import threading"
   ]
  },
  {
   "cell_type": "code",
   "execution_count": 3,
   "metadata": {},
   "outputs": [],
   "source": [
    "# Definir o endereço IP e a porta do servidor\n",
    "#server_ip = \"127.0.0.1\"  # IP do servidor (localhost)\n",
    "server_ip = \"192.168.1.117\"\n",
    "server_port = 12347      # Porta do servidor\n",
    "\n",
    "# Criar um socket TCP\n",
    "client_socket = socket.socket(socket.AF_INET, socket.SOCK_STREAM)\n",
    "\n",
    "# Conectar ao servidor\n",
    "client_socket.connect((server_ip, server_port))\n",
    "\n",
    "# Função para receber mensagens do servidor\n",
    "def receive_messages():\n",
    "    while True:\n",
    "        try: \n",
    "            message = client_socket.recv(1024).decode()\n",
    "            if not message:\n",
    "                break\n",
    "            print(f\"Servidor: {message}\")\n",
    "        except:\n",
    "            print(\"Conexão com o servidor foi encerrada.\")\n",
    "            break\n",
    "\n",
    "# Criar uma thread para receber mensagens do servidor\n",
    "receive_thread = threading.Thread(target=receive_messages)\n",
    "receive_thread.start()\n",
    "\n",
    "# Loop para enviar mensagens ao servidor\n",
    "while True:\n",
    "    message = input(\"Você: \")\n",
    "    client_socket.send(message.encode())"
   ]
  }
 ],
 "metadata": {
  "kernelspec": {
   "display_name": "Python 3",
   "language": "python",
   "name": "python3"
  },
  "language_info": {
   "codemirror_mode": {
    "name": "ipython",
    "version": 3
   },
   "file_extension": ".py",
   "mimetype": "text/x-python",
   "name": "python",
   "nbconvert_exporter": "python",
   "pygments_lexer": "ipython3",
   "version": "3.9.6"
  }
 },
 "nbformat": 4,
 "nbformat_minor": 2
}
