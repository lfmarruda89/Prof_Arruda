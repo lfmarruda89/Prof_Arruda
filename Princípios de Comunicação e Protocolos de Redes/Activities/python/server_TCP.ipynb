{
 "cells": [
  {
   "cell_type": "code",
   "execution_count": null,
   "metadata": {},
   "outputs": [],
   "source": [
    "import socket"
   ]
  },
  {
   "cell_type": "code",
   "execution_count": null,
   "metadata": {},
   "outputs": [],
   "source": [
    "# Definir o endereço IP e a porta para o servidor\n",
    "server_ip = \"143.244.220.150\"  # IP do servidor (localhost)\n",
    "server_port = 12346       # Porta do servidor\n",
    "\n",
    "# Criar um socket TCP\n",
    "server_socket = socket.socket(socket.AF_INET, socket.SOCK_STREAM)\n",
    "\n",
    "# Associar o socket ao endereço IP e porta\n",
    "server_socket.bind((server_ip, server_port))\n",
    "\n",
    "# Colocar o servidor em modo de escuta para aceitar conexões\n",
    "server_socket.listen(5)\n",
    "print(f\"Servidor TCP está ativo em {server_ip}:{server_port}\")\n",
    "\n",
    "# Loop principal do servidor para aceitar e gerenciar conexões\n",
    "while True:\n",
    "    # Aceitar uma nova conexão\n",
    "    client_socket, client_address = server_socket.accept()\n",
    "    print(f\"Conexão aceita de {client_address}\")\n",
    "    \n",
    "    # Receber dados do cliente\n",
    "    data = client_socket.recv(1024).decode()\n",
    "    print(f\"Recebido de {client_address}: {data}\")\n",
    "    \n",
    "    # Enviar uma resposta ao cliente\n",
    "    response = f\"Ack: {data}\"\n",
    "    client_socket.send(response.encode())\n",
    "    \n",
    "    # Fechar a conexão com o cliente\n",
    "    client_socket.close()\n",
    "    print(f\"Conexão fechada com {client_address}\")"
   ]
  }
 ],
 "metadata": {
  "kernelspec": {
   "display_name": "Python 3",
   "language": "python",
   "name": "python3"
  },
  "language_info": {
   "codemirror_mode": {
    "name": "ipython",
    "version": 3
   },
   "file_extension": ".py",
   "mimetype": "text/x-python",
   "name": "python",
   "nbconvert_exporter": "python",
   "pygments_lexer": "ipython3",
   "version": "3.9.6"
  }
 },
 "nbformat": 4,
 "nbformat_minor": 2
}
