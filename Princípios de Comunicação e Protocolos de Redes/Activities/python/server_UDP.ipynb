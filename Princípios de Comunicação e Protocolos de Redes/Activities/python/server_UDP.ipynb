{
 "cells": [
  {
   "cell_type": "code",
   "execution_count": 1,
   "metadata": {},
   "outputs": [],
   "source": [
    "import socket"
   ]
  },
  {
   "cell_type": "code",
   "execution_count": 2,
   "metadata": {},
   "outputs": [
    {
     "name": "stdout",
     "output_type": "stream",
     "text": [
      "Servidor UDP está ativo em 127.0.0.1:12345\n",
      "Recebido de ('127.0.0.1', 63042): Hello, server!\n",
      "Recebido de ('127.0.0.1', 52222): Hello, server!\n"
     ]
    }
   ],
   "source": [
    "# Definir o endereço IP e a porta para o servidor\n",
    "server_ip = \"127.0.0.1\"  # IP do servidor (localhost)\n",
    "server_port = 12345       # Porta do servidor\n",
    "\n",
    "# Criar um socket UDP\n",
    "server_socket = socket.socket(socket.AF_INET, socket.SOCK_DGRAM)\n",
    "\n",
    "# Associar o socket ao endereço IP e porta\n",
    "server_socket.bind((server_ip, server_port))\n",
    "\n",
    "print(f\"Servidor UDP está ativo em {server_ip}:{server_port}\")\n",
    "\n",
    "# Loop principal do servidor para receber dados\n",
    "while True:\n",
    "    # Receber dados do cliente (o buffer de recepção é de 1024 bytes)\n",
    "    data, client_address = server_socket.recvfrom(1024)\n",
    "    \n",
    "    # Exibir os dados recebidos e o endereço do cliente\n",
    "    print(f\"Recebido de {client_address}: {data.decode()}\")\n",
    "    \n",
    "    # Enviar uma resposta ao cliente (opcional)\n",
    "    response = f\"Ack: {data.decode()}\"\n",
    "    server_socket.sendto(response.encode(), client_address)"
   ]
  }
 ],
 "metadata": {
  "kernelspec": {
   "display_name": "Python 3",
   "language": "python",
   "name": "python3"
  },
  "language_info": {
   "codemirror_mode": {
    "name": "ipython",
    "version": 3
   },
   "file_extension": ".py",
   "mimetype": "text/x-python",
   "name": "python",
   "nbconvert_exporter": "python",
   "pygments_lexer": "ipython3",
   "version": "3.9.6"
  }
 },
 "nbformat": 4,
 "nbformat_minor": 2
}
