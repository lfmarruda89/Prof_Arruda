{
 "cells": [
  {
   "cell_type": "code",
   "execution_count": null,
   "metadata": {},
   "outputs": [],
   "source": [
    "import socket\n",
    "import threading"
   ]
  },
  {
   "cell_type": "code",
   "execution_count": null,
   "metadata": {},
   "outputs": [],
   "source": [
    "# Definir o endereço IP e a porta para o servidor\n",
    "server_ip = \"192.168.1.117\"  # IP do servidor (localhost)\n",
    "server_port = 12347       # Porta do servidor\n",
    "\n",
    "# Criar um socket TCP\n",
    "server_socket = socket.socket(socket.AF_INET, socket.SOCK_STREAM)\n",
    "\n",
    "# Associar o socket ao endereço IP e porta\n",
    "server_socket.bind((server_ip, server_port))\n",
    "\n",
    "# Colocar o servidor em modo de escuta para aceitar conexões\n",
    "server_socket.listen(5)\n",
    "print(f\"Servidor de chat está ativo em {server_ip}:{server_port}\")\n",
    "\n",
    "# Função para lidar com um cliente\n",
    "def handle_client(client_socket):\n",
    "    while True:\n",
    "        try:\n",
    "            # Receber mensagem do cliente\n",
    "            message = client_socket.recv(1024).decode()\n",
    "            if not message:\n",
    "                break\n",
    "            print(f\"Cliente: {message}\")\n",
    "            \n",
    "            # Enviar resposta ao cliente\n",
    "            response = input(\"Você: \")\n",
    "            client_socket.send(response.encode())\n",
    "        except:\n",
    "            print(\"Conexão com o cliente foi encerrada.\")\n",
    "            break\n",
    "    \n",
    "    client_socket.close()\n",
    "\n",
    "# Loop principal do servidor para aceitar conexões\n",
    "while True:\n",
    "    client_socket, client_address = server_socket.accept()\n",
    "    print(f\"Conexão aceita de {client_address}\")\n",
    "    \n",
    "    # Criar uma nova thread para lidar com o cliente\n",
    "    client_thread = threading.Thread(target=handle_client, args=(client_socket,))\n",
    "    client_thread.start()"
   ]
  }
 ],
 "metadata": {
  "kernelspec": {
   "display_name": "Python 3",
   "language": "python",
   "name": "python3"
  },
  "language_info": {
   "codemirror_mode": {
    "name": "ipython",
    "version": 3
   },
   "file_extension": ".py",
   "mimetype": "text/x-python",
   "name": "python",
   "nbconvert_exporter": "python",
   "pygments_lexer": "ipython3",
   "version": "3.9.6"
  }
 },
 "nbformat": 4,
 "nbformat_minor": 2
}
